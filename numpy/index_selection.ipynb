{
 "cells": [
  {
   "cell_type": "code",
   "execution_count": 2,
   "metadata": {},
   "outputs": [
    {
     "data": {
      "text/plain": [
       "array([ 9, 10])"
      ]
     },
     "execution_count": 2,
     "metadata": {},
     "output_type": "execute_result"
    }
   ],
   "source": [
    "import numpy as np\n",
    "\n",
    "arr = np.arange(0, 11)\n",
    "arr\n",
    "arr[8]\n",
    "arr[2:8]\n",
    "arr[-2:]"
   ]
  },
  {
   "cell_type": "code",
   "execution_count": 8,
   "metadata": {},
   "outputs": [
    {
     "data": {
      "text/plain": [
       "array([   0, 9999, 9999, 9999,  100,  100,  100,  100,    8,    9,   10])"
      ]
     },
     "execution_count": 8,
     "metadata": {},
     "output_type": "execute_result"
    }
   ],
   "source": [
    "# similar to list, but the differnce is broadcasting\n",
    "\n",
    "arr[1:8] = 100\n",
    "arr\n",
    "\n",
    "# the slice returns a view of the actual array, nt the copy, due to memroy issue if the array size is large\n",
    "arr_slice = arr[:]\n",
    "arr_slice\n",
    "arr_slice[1:4] = 9999\n",
    "arr_slice\n",
    "\n",
    "arr"
   ]
  },
  {
   "cell_type": "code",
   "execution_count": 11,
   "metadata": {},
   "outputs": [
    {
     "data": {
      "text/plain": [
       "array([   0, 9999, 9999, 9999,  100,  100,  100,  100,    8,    9,   10])"
      ]
     },
     "execution_count": 11,
     "metadata": {},
     "output_type": "execute_result"
    }
   ],
   "source": [
    "# therefore if you want copy\n",
    "arr_copy = arr.copy()\n",
    "arr_copy[1:3] = 88888\n",
    "arr_copy\n",
    "arr"
   ]
  }
 ],
 "metadata": {
  "kernelspec": {
   "display_name": "base",
   "language": "python",
   "name": "python3"
  },
  "language_info": {
   "codemirror_mode": {
    "name": "ipython",
    "version": 3
   },
   "file_extension": ".py",
   "mimetype": "text/x-python",
   "name": "python",
   "nbconvert_exporter": "python",
   "pygments_lexer": "ipython3",
   "version": "3.12.4"
  }
 },
 "nbformat": 4,
 "nbformat_minor": 2
}
